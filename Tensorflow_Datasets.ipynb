{
 "cells": [
  {
   "cell_type": "code",
   "execution_count": 1,
   "metadata": {},
   "outputs": [],
   "source": [
    "#IMPORTAR TENSORFLOW\n",
    "import tensorflow as tf"
   ]
  },
  {
   "cell_type": "code",
   "execution_count": 2,
   "metadata": {},
   "outputs": [
    {
     "data": {
      "text/plain": [
       "<TensorSliceDataset element_spec=TensorSpec(shape=(), dtype=tf.int32, name=None)>"
      ]
     },
     "execution_count": 2,
     "metadata": {},
     "output_type": "execute_result"
    }
   ],
   "source": [
    "#CREAR UN DATASET SIMPLE \n",
    "x = [23, 72, 17, -2, 45, 1]\n",
    "\n",
    "#CREAR EL DATASET USANDO EL MODULO DATASET DE TF.DATA \n",
    "dataset = tf.data.Dataset.from_tensor_slices(x)\n",
    "dataset\n"
   ]
  },
  {
   "cell_type": "code",
   "execution_count": 3,
   "metadata": {},
   "outputs": [
    {
     "name": "stdout",
     "output_type": "stream",
     "text": [
      "tf.Tensor(23, shape=(), dtype=int32)\n",
      "tf.Tensor(72, shape=(), dtype=int32)\n",
      "tf.Tensor(17, shape=(), dtype=int32)\n",
      "tf.Tensor(-2, shape=(), dtype=int32)\n",
      "tf.Tensor(45, shape=(), dtype=int32)\n",
      "tf.Tensor(1, shape=(), dtype=int32)\n"
     ]
    }
   ],
   "source": [
    "#VER Y ACCEDER A LOS DATOS DEL DATASET\n",
    "for dato in dataset:\n",
    "    print(dato)"
   ]
  },
  {
   "cell_type": "code",
   "execution_count": 4,
   "metadata": {},
   "outputs": [
    {
     "name": "stdout",
     "output_type": "stream",
     "text": [
      "23\n",
      "72\n",
      "17\n",
      "-2\n",
      "45\n",
      "1\n"
     ]
    }
   ],
   "source": [
    "#VER EL DATO EN FORMATO NUMPY\n",
    "for dato in dataset:\n",
    "    print(dato.numpy())"
   ]
  },
  {
   "cell_type": "code",
   "execution_count": 5,
   "metadata": {},
   "outputs": [
    {
     "name": "stdout",
     "output_type": "stream",
     "text": [
      "23\n",
      "72\n",
      "17\n"
     ]
    }
   ],
   "source": [
    "#COMO TOMAR ELEMENTOS DEL DATASET\n",
    "#Tomar por ejemplo los 3 primeros datos\n",
    "for dato in dataset.take(3):\n",
    "    print(dato.numpy())"
   ]
  },
  {
   "cell_type": "code",
   "execution_count": 6,
   "metadata": {},
   "outputs": [
    {
     "name": "stdout",
     "output_type": "stream",
     "text": [
      "23\n",
      "72\n",
      "17\n",
      "45\n",
      "1\n"
     ]
    }
   ],
   "source": [
    "#TRANSFORMACION DE DATOS: FILTRAR POSITIVOS \n",
    "dataset_filtrado = dataset.filter(lambda y: y>0) \n",
    "for dato in dataset_filtrado:\n",
    "    print(dato.numpy()) "
   ]
  },
  {
   "cell_type": "code",
   "execution_count": 7,
   "metadata": {},
   "outputs": [
    {
     "name": "stdout",
     "output_type": "stream",
     "text": [
      "2.3\n",
      "7.2\n",
      "1.7\n",
      "-0.2\n",
      "4.5\n",
      "0.1\n"
     ]
    },
    {
     "data": {
      "text/plain": [
       "<MapDataset element_spec=TensorSpec(shape=(), dtype=tf.float64, name=None)>"
      ]
     },
     "execution_count": 7,
     "metadata": {},
     "output_type": "execute_result"
    }
   ],
   "source": [
    "#DIVIDIR CADA VALOR ENTRE 10 Y CONVERTIR A FLOAT \n",
    "dataset_mapeado = dataset.map(lambda y: y/10) \n",
    "for dato in dataset_mapeado:\n",
    "      print(dato.numpy()) \n",
    "\n",
    "dataset_mapeado"
   ]
  },
  {
   "cell_type": "code",
   "execution_count": 9,
   "metadata": {},
   "outputs": [
    {
     "name": "stdout",
     "output_type": "stream",
     "text": [
      "23 45\n",
      "72 72\n",
      "17 -2\n",
      "-2 1\n",
      "45 23\n",
      "1 17\n"
     ]
    },
    {
     "data": {
      "text/plain": [
       "<ShuffleDataset element_spec=TensorSpec(shape=(), dtype=tf.int32, name=None)>"
      ]
     },
     "execution_count": 9,
     "metadata": {},
     "output_type": "execute_result"
    }
   ],
   "source": [
    "#SHUFFLE PArA MEZCLAR LOS DATOS ALEATORIAMENTE\n",
    "dataset_mezclado = dataset.shuffle(6, seed=123)\n",
    "\n",
    "#PRINT DEL DATO ORGINAL Y DEL MEZCLADO\n",
    "for dato, dato_s in zip(dataset, dataset_mezclado):\n",
    "      print(dato.numpy() ,dato_s.numpy()) \n",
    "\n",
    "dataset_mezclado"
   ]
  },
  {
   "cell_type": "code",
   "execution_count": 23,
   "metadata": {},
   "outputs": [
    {
     "name": "stdout",
     "output_type": "stream",
     "text": [
      "tf.Tensor([23 72 17 -2], shape=(4,), dtype=int32)\n",
      "tf.Tensor([45  1], shape=(2,), dtype=int32)\n"
     ]
    }
   ],
   "source": [
    "#CREAR BATCHES \n",
    "dataset_batches = dataset.batch(4) \n",
    "\n",
    "for batch in dataset_batches:\n",
    "    print(batch)\n"
   ]
  },
  {
   "cell_type": "code",
   "execution_count": 10,
   "metadata": {},
   "outputs": [
    {
     "name": "stdout",
     "output_type": "stream",
     "text": [
      "1\n",
      "2\n",
      "3\n",
      "4\n",
      "5\n",
      "6\n",
      "7\n",
      "8\n",
      "9\n",
      "10\n"
     ]
    }
   ],
   "source": [
    "#CREAR EL SET DE DATOS\n",
    "ds = tf.data.Dataset.from_tensor_slices(range(1,11))\n",
    "\n",
    "for dato in ds:\n",
    "    print(dato.numpy)"
   ]
  },
  {
   "cell_type": "code",
   "execution_count": 11,
   "metadata": {},
   "outputs": [
    {
     "name": "stdout",
     "output_type": "stream",
     "text": [
      "10 6 2 2\n"
     ]
    }
   ],
   "source": [
    "#SUPONGAMOS QUE QUEREMOS PARTIR EL DATASET EN \n",
    "# EL 60% PARA ENTRENAMIENTO\n",
    "# EL 20% PARA VALIDACION\n",
    "# EL 20% PARA PRUEBA\n",
    "\n",
    "#CALCULAMOS LA CANTIDAD DE DATOS \n",
    "N = len(ds)\n",
    "# DATOS DE ENTRENAMIENTO\n",
    "tr_size = int(0.6*N)\n",
    "# DATOS DE PRUEBA\n",
    "ts_size_size = int(0.2*N)\n",
    "# DATOS DE VALIDACION\n",
    "vl_size = N - tr_size - ts_size_size\n",
    "\n",
    "print(N, tr_size, ts_size_size, vl_size)\n",
    "\n"
   ]
  },
  {
   "cell_type": "code",
   "execution_count": 12,
   "metadata": {},
   "outputs": [
    {
     "name": "stdout",
     "output_type": "stream",
     "text": [
      "7\n",
      "3\n",
      "6\n",
      "2\n",
      "1\n",
      "4\n",
      "5\n",
      "10\n",
      "8\n",
      "9\n"
     ]
    }
   ],
   "source": [
    "# MEZCLAR EL DATASET Y DESACTIVAR LA OPCION RESHUFFLE \n",
    "SEED = 423 \n",
    "ds = ds.shuffle(N, seed=SEED, reshuffle_each_iteration=False)\n",
    "for dato in ds:\n",
    "    print (dato.numpy())"
   ]
  },
  {
   "cell_type": "code",
   "execution_count": 13,
   "metadata": {},
   "outputs": [
    {
     "name": "stdout",
     "output_type": "stream",
     "text": [
      "TRAIN\n",
      "7\n",
      "3\n",
      "6\n",
      "2\n",
      "1\n",
      "4\n",
      "TEST\n",
      "5\n",
      "10\n",
      "VAL\n",
      "8\n",
      "9\n"
     ]
    }
   ],
   "source": [
    "# ENTRENAMIENTO: TOMO LOS PRIMEROS DATOS DEL DATASET DE ENTRENAMIENTO \n",
    "\n",
    "ds_train = ds.take(tr_size)\n",
    "ds_test = ds.skip(tr_size).take(ts_size_size)\n",
    "ds_val = ds.skip(tr_size + ts_size_size)\n",
    "\n",
    "# IMPRIMIR\n",
    "print(\"TRAIN\")\n",
    "for dato in ds_train:\n",
    "    print(dato.numpy())\n",
    "print(\"TEST\")\n",
    "for dato in ds_test:\n",
    "    print(dato.numpy())\n",
    "print(\"VAL\")\n",
    "for dato in ds_val:\n",
    "    print(dato.numpy())"
   ]
  }
 ],
 "metadata": {
  "kernelspec": {
   "display_name": "Python 3 (ipykernel)",
   "language": "python",
   "name": "python3"
  },
  "language_info": {
   "codemirror_mode": {
    "name": "ipython",
    "version": 3
   },
   "file_extension": ".py",
   "mimetype": "text/x-python",
   "name": "python",
   "nbconvert_exporter": "python",
   "pygments_lexer": "ipython3",
   "version": "3.10.13"
  }
 },
 "nbformat": 4,
 "nbformat_minor": 4
}
